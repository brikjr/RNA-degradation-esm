{
 "cells": [
  {
   "cell_type": "markdown",
   "metadata": {},
   "source": [
    "# RNA Structure Prediction - Model Development\n",
    "\n",
    "This notebook develops a deep learning model for RNA structure prediction using preprocessed sequence and structural features."
   ]
  },
  {
   "cell_type": "code",
   "execution_count": 3,
   "metadata": {},
   "outputs": [
    {
     "name": "stdout",
     "output_type": "stream",
     "text": [
      "Using device: mps\n"
     ]
    }
   ],
   "source": [
    "# Import libraries\n",
    "import torch\n",
    "import torch.nn as nn\n",
    "import torch.nn.functional as F\n",
    "from torch.utils.data import Dataset, DataLoader\n",
    "import numpy as np\n",
    "import pandas as pd\n",
    "import matplotlib.pyplot as plt\n",
    "import seaborn as sns\n",
    "from sklearn.model_selection import train_test_split\n",
    "\n",
    "# Set random seeds\n",
    "torch.manual_seed(42)\n",
    "np.random.seed(42)\n",
    "\n",
    "# Set device\n",
    "device = torch.device('cuda' if torch.cuda.is_available() else 'mps' if torch.backends.mps.is_available() else 'cpu')\n",
    "print(f'Using device: {device}')"
   ]
  },
  {
   "cell_type": "markdown",
   "metadata": {},
   "source": [
    "## 1. Data Loading and Preparation"
   ]
  },
  {
   "cell_type": "code",
   "execution_count": 6,
   "metadata": {},
   "outputs": [
    {
     "name": "stdout",
     "output_type": "stream",
     "text": [
      "Loaded 2400 samples\n",
      "\n",
      "Data shapes:\n",
      "Features: (2400, 1)\n",
      "reactivity: torch.Size([2400, 68])\n",
      "deg_Mg_pH10: torch.Size([2400, 68])\n",
      "deg_pH10: torch.Size([2400, 68])\n",
      "deg_Mg_50C: torch.Size([2400, 68])\n",
      "deg_50C: torch.Size([2400, 68])\n"
     ]
    }
   ],
   "source": [
    "# Load data\n",
    "train_df = pd.read_csv('../data/raw/train.csv')\n",
    "print(f\"Loaded {len(train_df)} samples\")\n",
    "\n",
    "# Basic data preprocessing\n",
    "def preprocess_data(df):\n",
    "    # Extract sequence features\n",
    "    sequences = df['sequence'].values\n",
    "    \n",
    "    # Extract numerical features\n",
    "    feature_cols = ['signal_to_noise']\n",
    "    features = df[feature_cols].values\n",
    "    \n",
    "    # Extract targets\n",
    "    target_cols = [col for col in df.columns if any(x in col for x in \n",
    "                  ['reactivity.', 'deg_Mg_pH10.', 'deg_pH10.', 'deg_Mg_50C.', 'deg_50C.'])]\n",
    "    target_array = df[target_cols].values\n",
    "    \n",
    "    # Organize targets into dictionary\n",
    "    targets = {}\n",
    "    for i, prefix in enumerate(['reactivity', 'deg_Mg_pH10', 'deg_pH10', 'deg_Mg_50C', 'deg_50C']):\n",
    "        target_values = target_array[:, i::5]  # Take every 5th column\n",
    "        targets[prefix] = torch.FloatTensor(target_values)\n",
    "    \n",
    "    return sequences, features, targets\n",
    "\n",
    "sequences, features, targets = preprocess_data(train_df)\n",
    "print(\"\\nData shapes:\")\n",
    "print(f\"Features: {features.shape}\")\n",
    "for name, target in targets.items():\n",
    "    print(f\"{name}: {target.shape}\")"
   ]
  },
  {
   "cell_type": "markdown",
   "metadata": {},
   "source": [
    "## 2. Model Architecture"
   ]
  },
  {
   "cell_type": "code",
   "execution_count": 7,
   "metadata": {},
   "outputs": [
    {
     "name": "stdout",
     "output_type": "stream",
     "text": [
      "Training samples: 1920\n",
      "Validation samples: 480\n"
     ]
    }
   ],
   "source": [
    "class RNADataset(Dataset):\n",
    "    def __init__(self, sequences, features, targets):\n",
    "        self.sequences = sequences\n",
    "        self.features = torch.FloatTensor(features)\n",
    "        self.targets = targets\n",
    "        \n",
    "    def __len__(self):\n",
    "        return len(self.sequences)\n",
    "    \n",
    "    def __getitem__(self, idx):\n",
    "        return {\n",
    "            'sequence': self.sequences[idx],\n",
    "            'features': self.features[idx],\n",
    "            'targets': {k: v[idx] for k, v in self.targets.items()}\n",
    "        }\n",
    "\n",
    "# Split data\n",
    "train_idx, val_idx = train_test_split(range(len(sequences)), test_size=0.2, random_state=42)\n",
    "\n",
    "# Create datasets\n",
    "train_dataset = RNADataset(\n",
    "    sequences[train_idx], \n",
    "    features[train_idx],\n",
    "    {k: v[train_idx] for k, v in targets.items()}\n",
    ")\n",
    "\n",
    "val_dataset = RNADataset(\n",
    "    sequences[val_idx], \n",
    "    features[val_idx],\n",
    "    {k: v[val_idx] for k, v in targets.items()}\n",
    ")\n",
    "\n",
    "# Create dataloaders\n",
    "train_loader = DataLoader(train_dataset, batch_size=32, shuffle=True)\n",
    "val_loader = DataLoader(val_dataset, batch_size=32)\n",
    "\n",
    "print(f\"Training samples: {len(train_idx)}\")\n",
    "print(f\"Validation samples: {len(val_idx)}\")"
   ]
  },
  {
   "cell_type": "code",
   "execution_count": 8,
   "metadata": {},
   "outputs": [
    {
     "name": "stdout",
     "output_type": "stream",
     "text": [
      "Model initialized\n"
     ]
    }
   ],
   "source": [
    "class RNAPredictor(nn.Module):\n",
    "    def __init__(self, input_dim: int, hidden_dim: int = 256):\n",
    "        super().__init__()\n",
    "        \n",
    "        # Feature processing\n",
    "        self.feature_network = nn.Sequential(\n",
    "            nn.Linear(input_dim, hidden_dim),\n",
    "            nn.LayerNorm(hidden_dim),\n",
    "            nn.ReLU(),\n",
    "            nn.Dropout(0.2)\n",
    "        )\n",
    "        \n",
    "        # Sequence processing\n",
    "        self.embedding = nn.Embedding(4, hidden_dim)  # A, U, G, C\n",
    "        self.lstm = nn.LSTM(\n",
    "            hidden_dim, hidden_dim, \n",
    "            bidirectional=True,\n",
    "            batch_first=True\n",
    "        )\n",
    "        \n",
    "        # Prediction heads\n",
    "        self.heads = nn.ModuleDict({\n",
    "            name: nn.Sequential(\n",
    "                nn.Linear(hidden_dim * 3, hidden_dim),\n",
    "                nn.ReLU(),\n",
    "                nn.Dropout(0.2),\n",
    "                nn.Linear(hidden_dim, 68)\n",
    "            )\n",
    "            for name in ['reactivity', 'deg_Mg_pH10', 'deg_pH10', \n",
    "                        'deg_Mg_50C', 'deg_50C']\n",
    "        })\n",
    "    \n",
    "    def forward(self, sequences, features):\n",
    "        # Process features\n",
    "        feature_embed = self.feature_network(features)\n",
    "        \n",
    "        # Process sequences\n",
    "        seq_indices = torch.tensor([\n",
    "            [{'A':0, 'U':1, 'G':2, 'C':3}[n] for n in seq]\n",
    "            for seq in sequences\n",
    "        ]).to(features.device)\n",
    "        \n",
    "        seq_embed = self.embedding(seq_indices)\n",
    "        seq_embed, _ = self.lstm(seq_embed)\n",
    "        seq_embed = seq_embed.mean(dim=1)  # Average pooling\n",
    "        \n",
    "        # Combine embeddings\n",
    "        combined = torch.cat([seq_embed, feature_embed], dim=1)\n",
    "        \n",
    "        # Generate predictions\n",
    "        return {name: head(combined) for name, head in self.heads.items()}\n",
    "\n",
    "# Initialize model\n",
    "model = RNAPredictor(input_dim=features.shape[1]).to(device)\n",
    "print(\"Model initialized\")"
   ]
  },
  {
   "cell_type": "markdown",
   "metadata": {},
   "source": [
    "## 3. Training Pipeline"
   ]
  },
  {
   "cell_type": "code",
   "execution_count": 9,
   "metadata": {},
   "outputs": [
    {
     "name": "stdout",
     "output_type": "stream",
     "text": [
      "Epoch 1/30:\n",
      "Train Loss: 4.4687, Val Loss: 4.3305\n",
      "Epoch 2/30:\n",
      "Train Loss: 4.3268, Val Loss: 4.2984\n",
      "Epoch 3/30:\n",
      "Train Loss: 4.2810, Val Loss: 4.2879\n",
      "Epoch 4/30:\n",
      "Train Loss: 4.2528, Val Loss: 4.2553\n",
      "Epoch 5/30:\n",
      "Train Loss: 4.2151, Val Loss: 4.2584\n",
      "Epoch 6/30:\n",
      "Train Loss: 4.1956, Val Loss: 4.2453\n",
      "Epoch 7/30:\n",
      "Train Loss: 4.1698, Val Loss: 4.2049\n",
      "Epoch 8/30:\n",
      "Train Loss: 4.1413, Val Loss: 4.2069\n",
      "Epoch 9/30:\n",
      "Train Loss: 4.1295, Val Loss: 4.1815\n",
      "Epoch 10/30:\n",
      "Train Loss: 4.1017, Val Loss: 4.2086\n",
      "Epoch 11/30:\n",
      "Train Loss: 4.0977, Val Loss: 4.2016\n",
      "Epoch 12/30:\n",
      "Train Loss: 4.0770, Val Loss: 4.1723\n",
      "Epoch 13/30:\n",
      "Train Loss: 4.0512, Val Loss: 4.1887\n",
      "Epoch 14/30:\n",
      "Train Loss: 4.0296, Val Loss: 4.1919\n",
      "Epoch 15/30:\n",
      "Train Loss: 4.0072, Val Loss: 4.1884\n",
      "Epoch 16/30:\n",
      "Train Loss: 3.9779, Val Loss: 4.1849\n",
      "Epoch 17/30:\n",
      "Train Loss: 3.9599, Val Loss: 4.1760\n",
      "Epoch 18/30:\n",
      "Train Loss: 3.9310, Val Loss: 4.1780\n",
      "Epoch 19/30:\n",
      "Train Loss: 3.8416, Val Loss: 4.1810\n",
      "Epoch 20/30:\n",
      "Train Loss: 3.8201, Val Loss: 4.1868\n",
      "Epoch 21/30:\n",
      "Train Loss: 3.8119, Val Loss: 4.1890\n",
      "Epoch 22/30:\n",
      "Train Loss: 3.8002, Val Loss: 4.1964\n",
      "Epoch 23/30:\n",
      "Train Loss: 3.7874, Val Loss: 4.1971\n",
      "Epoch 24/30:\n",
      "Train Loss: 3.7885, Val Loss: 4.1977\n",
      "Epoch 25/30:\n",
      "Train Loss: 3.7698, Val Loss: 4.1968\n",
      "Epoch 26/30:\n",
      "Train Loss: 3.7759, Val Loss: 4.1957\n",
      "Epoch 27/30:\n",
      "Train Loss: 3.7583, Val Loss: 4.1962\n",
      "Epoch 28/30:\n",
      "Train Loss: 3.7628, Val Loss: 4.1961\n",
      "Epoch 29/30:\n",
      "Train Loss: 3.7540, Val Loss: 4.1962\n",
      "Epoch 30/30:\n",
      "Train Loss: 3.7648, Val Loss: 4.1966\n"
     ]
    }
   ],
   "source": [
    "def train_epoch(model, loader, optimizer):\n",
    "    model.train()\n",
    "    total_loss = 0\n",
    "    \n",
    "    for batch in loader:\n",
    "        sequences = batch['sequence']\n",
    "        features = batch['features'].to(device)\n",
    "        targets = {k: v.to(device) for k, v in batch['targets'].items()}\n",
    "        \n",
    "        optimizer.zero_grad()\n",
    "        predictions = model(sequences, features)\n",
    "        \n",
    "        loss = sum(F.mse_loss(predictions[k], targets[k]) for k in predictions)\n",
    "        loss.backward()\n",
    "        optimizer.step()\n",
    "        \n",
    "        total_loss += loss.item()\n",
    "    \n",
    "    return total_loss / len(loader)\n",
    "\n",
    "def validate(model, loader):\n",
    "    model.eval()\n",
    "    total_loss = 0\n",
    "    \n",
    "    with torch.no_grad():\n",
    "        for batch in loader:\n",
    "            sequences = batch['sequence']\n",
    "            features = batch['features'].to(device)\n",
    "            targets = {k: v.to(device) for k, v in batch['targets'].items()}\n",
    "            \n",
    "            predictions = model(sequences, features)\n",
    "            loss = sum(F.mse_loss(predictions[k], targets[k]) for k in predictions)\n",
    "            total_loss += loss.item()\n",
    "    \n",
    "    return total_loss / len(loader)\n",
    "\n",
    "# Training setup\n",
    "optimizer = torch.optim.Adam(model.parameters(), lr=1e-3)\n",
    "scheduler = torch.optim.lr_scheduler.ReduceLROnPlateau(optimizer, patience=5)\n",
    "\n",
    "# Training loop\n",
    "n_epochs = 30\n",
    "train_losses = []\n",
    "val_losses = []\n",
    "best_val_loss = float('inf')\n",
    "\n",
    "for epoch in range(n_epochs):\n",
    "    train_loss = train_epoch(model, train_loader, optimizer)\n",
    "    val_loss = validate(model, val_loader)\n",
    "    \n",
    "    train_losses.append(train_loss)\n",
    "    val_losses.append(val_loss)\n",
    "    scheduler.step(val_loss)\n",
    "    \n",
    "    if val_loss < best_val_loss:\n",
    "        best_val_loss = val_loss\n",
    "        torch.save(model.state_dict(), 'best_model.pt')\n",
    "    \n",
    "    print(f\"Epoch {epoch+1}/{n_epochs}:\")\n",
    "    print(f\"Train Loss: {train_loss:.4f}, Val Loss: {val_loss:.4f}\")"
   ]
  },
  {
   "cell_type": "markdown",
   "metadata": {},
   "source": [
    "## 4. Results Analysis"
   ]
  },
  {
   "cell_type": "code",
   "execution_count": 10,
   "metadata": {},
   "outputs": [
    {
     "data": {
      "image/png": "[encoded data removed]",
      "text/plain": [
       "<Figure size 1000x500 with 1 Axes>"
      ]
     },
     "metadata": {},
     "output_type": "display_data"
    },
    {
     "name": "stdout",
     "output_type": "stream",
     "text": [
      "\n",
      "reactivity:\n",
      "MSE: 0.9322\n",
      "Correlation: 0.3203\n",
      "\n",
      "deg_Mg_pH10:\n",
      "MSE: 0.8071\n",
      "Correlation: 0.3464\n",
      "\n",
      "deg_pH10:\n",
      "MSE: 0.7484\n",
      "Correlation: 0.4321\n",
      "\n",
      "deg_Mg_50C:\n",
      "MSE: 0.6894\n",
      "Correlation: 0.3397\n",
      "\n",
      "deg_50C:\n",
      "MSE: 0.9952\n",
      "Correlation: 0.2808\n",
      "\n",
      "Training completed and model evaluated!\n"
     ]
    },
    {
     "name": "stderr",
     "output_type": "stream",
     "text": [
      "/var/folders/33/k5_31_5j3xs93ks88fdb0xb80000gp/T/ipykernel_32296/2733494001.py:12: FutureWarning: You are using `torch.load` with `weights_only=False` (the current default value), which uses the default pickle module implicitly. It is possible to construct malicious pickle data which will execute arbitrary code during unpickling (See https://github.com/pytorch/pytorch/blob/main/SECURITY.md#untrusted-models for more details). In a future release, the default value for `weights_only` will be flipped to `True`. This limits the functions that could be executed during unpickling. Arbitrary objects will no longer be allowed to be loaded via this mode unless they are explicitly allowlisted by the user via `torch.serialization.add_safe_globals`. We recommend you start setting `weights_only=True` for any use case where you don't have full control of the loaded file. Please open an issue on GitHub for any issues related to this experimental feature.\n",
      "  model.load_state_dict(torch.load('best_model.pt'))\n"
     ]
    }
   ],
   "source": [
    "# Plot training curves\n",
    "plt.figure(figsize=(10, 5))\n",
    "plt.plot(train_losses, label='Train')\n",
    "plt.plot(val_losses, label='Validation')\n",
    "plt.xlabel('Epoch')\n",
    "plt.ylabel('Loss')\n",
    "plt.legend()\n",
    "plt.title('Training History')\n",
    "plt.show()\n",
    "\n",
    "# Load best model and make predictions\n",
    "model.load_state_dict(torch.load('best_model.pt'))\n",
    "model.eval()\n",
    "\n",
    "# Get predictions\n",
    "val_predictions = {}\n",
    "val_targets = {}\n",
    "\n",
    "with torch.no_grad():\n",
    "    for batch in val_loader:\n",
    "        sequences = batch['sequence']\n",
    "        features = batch['features'].to(device)\n",
    "        predictions = model(sequences, features)\n",
    "        \n",
    "        for k in predictions:\n",
    "            if k not in val_predictions:\n",
    "                val_predictions[k] = []\n",
    "                val_targets[k] = []\n",
    "            val_predictions[k].append(predictions[k].cpu())\n",
    "            val_targets[k].append(batch['targets'][k])\n",
    "\n",
    "# Calculate metrics\n",
    "for k in val_predictions:\n",
    "    preds = torch.cat(val_predictions[k]).numpy()\n",
    "    targets = torch.cat(val_targets[k]).numpy()\n",
    "    \n",
    "    mse = np.mean((preds - targets) ** 2)\n",
    "    corr = np.corrcoef(preds.flatten(), targets.flatten())[0,1]\n",
    "    \n",
    "    print(f\"\\n{k}:\")\n",
    "    print(f\"MSE: {mse:.4f}\")\n",
    "    print(f\"Correlation: {corr:.4f}\")\n",
    "\n",
    "print(\"\\nTraining completed and model evaluated!\")"
   ]
  },
  {
   "cell_type": "code",
   "execution_count": null,
   "metadata": {},
   "outputs": [],
   "source": []
  }
 ],
 "metadata": {
  "kernelspec": {
   "display_name": "Python 3",
   "language": "python",
   "name": "python3"
  },
  "language_info": {
   "codemirror_mode": {
    "name": "ipython",
    "version": 3
   },
   "file_extension": ".py",
   "mimetype": "text/x-python",
   "name": "python",
   "nbconvert_exporter": "python",
   "pygments_lexer": "ipython3",
   "version": "3.8.20"
  }
 },
 "nbformat": 4,
 "nbformat_minor": 2
}
